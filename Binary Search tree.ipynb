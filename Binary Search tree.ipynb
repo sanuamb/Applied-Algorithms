{
 "cells": [
  {
   "cell_type": "code",
   "execution_count": 25,
   "metadata": {},
   "outputs": [],
   "source": [
    "class Node:\n",
    "    def __init__(self,val=None):\n",
    "        self.val=val\n",
    "        self.lchild=None\n",
    "        self.rchild=None\n",
    "        \n",
    "class BST:\n",
    "    def __init__(self):\n",
    "        self.root=None\n",
    "        \n",
    "    def insert_node(self,val,curr_node):\n",
    "        if(val<curr_node.val):\n",
    "            if(curr_node.lchild==None):\n",
    "                curr_node.lchild=Node(val)\n",
    "            else:\n",
    "                curr_node=curr_node.lchild\n",
    "        if(val>curr_node.val):\n",
    "            if(curr_node.rchild==None):\n",
    "                curr_node.rchild=Node(val)\n",
    "            else:\n",
    "                curr_node=curr_node.lchild\n",
    "                \n",
    "    def insert(self,val):\n",
    "        if(self.root==None):\n",
    "            self.root=Node(val)\n",
    "        else:\n",
    "            self.insert_node(val,self.root)\n",
    "         \n",
    "     #Without recursion   \n",
    "    def search(self,key):\n",
    "        ptr=self.root\n",
    "        while(ptr!=None):\n",
    "            if(ptr.val==key):\n",
    "                return True\n",
    "            elif(key<ptr.val):\n",
    "                ptr=ptr.lchild\n",
    "            elif(key>ptr.val):\n",
    "                ptr=ptr.rchild\n",
    "                \n",
    "    #With recursion\n",
    "    def search_recursion(self,curr_node,key):\n",
    "        ptr=curr_node\n",
    "        if(ptr.val==key):\n",
    "            return True\n",
    "        elif(key<ptr.val):\n",
    "            return self.search_recursion(ptr.lchild,key)\n",
    "        elif(key>ptr.val):\n",
    "            return self.search_recursion(ptr.rchild,key)\n",
    "            \n",
    "    \n",
    "       \n",
    "    "
   ]
  },
  {
   "cell_type": "code",
   "execution_count": 26,
   "metadata": {},
   "outputs": [
    {
     "name": "stdout",
     "output_type": "stream",
     "text": [
      "Found\n",
      "Found Key recursion\n"
     ]
    }
   ],
   "source": [
    "tree=BST()\n",
    "arr=[8,3,1,6,4,7,10,14,13]\n",
    "for i in arr:\n",
    "    tree.insert(i)\n",
    "key=10\n",
    "f=tree.search(key)\n",
    "if(f==True):\n",
    "    print(\"Found\")\n",
    "else:\n",
    "    print(\"Not Found\")\n",
    "\n",
    "z=tree.search_recursion(tree.root,key)\n",
    "if(z==True):\n",
    "    print(\"Found Key recursion\")\n",
    "else:\n",
    "    print(\"Not found recursion\")\n"
   ]
  },
  {
   "cell_type": "code",
   "execution_count": null,
   "metadata": {},
   "outputs": [],
   "source": []
  }
 ],
 "metadata": {
  "kernelspec": {
   "display_name": "Python 3",
   "language": "python",
   "name": "python3"
  },
  "language_info": {
   "codemirror_mode": {
    "name": "ipython",
    "version": 3
   },
   "file_extension": ".py",
   "mimetype": "text/x-python",
   "name": "python",
   "nbconvert_exporter": "python",
   "pygments_lexer": "ipython3",
   "version": "3.6.4"
  }
 },
 "nbformat": 4,
 "nbformat_minor": 2
}
